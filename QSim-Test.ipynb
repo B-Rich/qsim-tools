{
 "cells": [
  {
   "cell_type": "code",
   "execution_count": 1,
   "metadata": {},
   "outputs": [],
   "source": [
    "import sympy as sp; sp.init_printing()\n",
    "import numpy as np\n",
    "import qnet.algebra as qna"
   ]
  },
  {
   "cell_type": "code",
   "execution_count": 50,
   "metadata": {},
   "outputs": [],
   "source": [
    "import importlib\n",
    "\n",
    "import qsim.models; importlib.reload(qsim.models)\n",
    "from qsim.models import *"
   ]
  },
  {
   "cell_type": "code",
   "execution_count": 51,
   "metadata": {
    "collapsed": true
   },
   "outputs": [],
   "source": [
    "Atom = qna.LocalSpace('Atom', basis=('g','e'))\n",
    "ModeA = qna.LocalSpace('A')\n",
    "ModeB = qna.LocalSpace('B')"
   ]
  },
  {
   "cell_type": "code",
   "execution_count": 52,
   "metadata": {},
   "outputs": [],
   "source": [
    "DeltaA,DeltaB = sp.symbols('Delta_A, Delta_B')\n",
    "\n",
    "a = qna.Destroy(hs=ModeA)\n",
    "b = qna.Destroy(hs=ModeB)\n",
    "sigma = qna.LocalSigma('g','e', hs=Atom)\n",
    "\n",
    "SYS = qna.SLH(qna.identity_matrix(2), [a,b], DeltaA*a.dag()*a + DeltaB*b.dag()*b + sigma.dag()*sigma)"
   ]
  },
  {
   "cell_type": "code",
   "execution_count": 53,
   "metadata": {},
   "outputs": [
    {
     "ename": "ValueError",
     "evalue": "name 'SLH_A,Atom,B' does not match pattern '^[A-Za-z][A-Za-z0-9.]*$'",
     "output_type": "error",
     "traceback": [
      "\u001b[0;31m---------------------------------------------------------------------------\u001b[0m",
      "\u001b[0;31mValueError\u001b[0m                                Traceback (most recent call last)",
      "\u001b[0;32m<ipython-input-53-b881b8ff5c3e>\u001b[0m in \u001b[0;36m<module>\u001b[0;34m()\u001b[0m\n\u001b[0;32m----> 1\u001b[0;31m \u001b[0mmodel\u001b[0m \u001b[0;34m=\u001b[0m \u001b[0mSLHComponent\u001b[0m\u001b[0;34m(\u001b[0m\u001b[0mSYS\u001b[0m\u001b[0;34m,\u001b[0m \u001b[0mdetuning1\u001b[0m\u001b[0;34m=\u001b[0m\u001b[0mDeltaA\u001b[0m\u001b[0;34m,\u001b[0m\u001b[0mdetuning2\u001b[0m\u001b[0;34m=\u001b[0m\u001b[0mDeltaB\u001b[0m\u001b[0;34m)\u001b[0m\u001b[0;34m\u001b[0m\u001b[0m\n\u001b[0m",
      "\u001b[0;32m/media/edwin/Windows7_OS/Users/Edwin Ng/Documents/GitHub/qsim-tools/qsim/models.py\u001b[0m in \u001b[0;36m__init__\u001b[0;34m(self, slh, **parameters)\u001b[0m\n\u001b[1;32m     22\u001b[0m         \u001b[0mself\u001b[0m\u001b[0;34m.\u001b[0m\u001b[0m_parameters\u001b[0m \u001b[0;34m=\u001b[0m \u001b[0mlist\u001b[0m\u001b[0;34m(\u001b[0m\u001b[0mparameters\u001b[0m\u001b[0;34m.\u001b[0m\u001b[0mkeys\u001b[0m\u001b[0;34m(\u001b[0m\u001b[0;34m)\u001b[0m\u001b[0;34m)\u001b[0m\u001b[0;34m\u001b[0m\u001b[0m\n\u001b[1;32m     23\u001b[0m         \u001b[0;31m#super().__init__('SLH', **parameters)\u001b[0m\u001b[0;34m\u001b[0m\u001b[0;34m\u001b[0m\u001b[0m\n\u001b[0;32m---> 24\u001b[0;31m         \u001b[0msuper\u001b[0m\u001b[0;34m(\u001b[0m\u001b[0;34m)\u001b[0m\u001b[0;34m.\u001b[0m\u001b[0m__init__\u001b[0m\u001b[0;34m(\u001b[0m\u001b[0;34m'SLH_'\u001b[0m\u001b[0;34m+\u001b[0m\u001b[0;34m','\u001b[0m\u001b[0;34m.\u001b[0m\u001b[0mjoin\u001b[0m\u001b[0;34m(\u001b[0m\u001b[0ms\u001b[0m\u001b[0;34m.\u001b[0m\u001b[0mlabel\u001b[0m \u001b[0;32mfor\u001b[0m \u001b[0ms\u001b[0m \u001b[0;32min\u001b[0m \u001b[0mslh\u001b[0m\u001b[0;34m.\u001b[0m\u001b[0mspace\u001b[0m\u001b[0;34m.\u001b[0m\u001b[0mlocal_factors\u001b[0m\u001b[0;34m)\u001b[0m\u001b[0;34m,\u001b[0m \u001b[0;34m**\u001b[0m\u001b[0mparameters\u001b[0m\u001b[0;34m)\u001b[0m\u001b[0;34m\u001b[0m\u001b[0m\n\u001b[0m\u001b[1;32m     25\u001b[0m         \u001b[0mself\u001b[0m\u001b[0;34m.\u001b[0m\u001b[0mCDIM\u001b[0m \u001b[0;34m=\u001b[0m \u001b[0mself\u001b[0m\u001b[0;34m.\u001b[0m\u001b[0mslh\u001b[0m\u001b[0;34m.\u001b[0m\u001b[0mL\u001b[0m\u001b[0;34m.\u001b[0m\u001b[0mshape\u001b[0m\u001b[0;34m[\u001b[0m\u001b[0;36m0\u001b[0m\u001b[0;34m]\u001b[0m\u001b[0;34m\u001b[0m\u001b[0m\n\u001b[1;32m     26\u001b[0m         \u001b[0;31m# TODO: self.PORTSIN, self.PORTSOUT\u001b[0m\u001b[0;34m\u001b[0m\u001b[0;34m\u001b[0m\u001b[0m\n",
      "\u001b[0;32m/home/edwin/anaconda3/envs/qnet-dev/lib/python3.6/site-packages/qnet/circuit_components/component.py\u001b[0m in \u001b[0;36m__init__\u001b[0;34m(self, name, **kwargs)\u001b[0m\n\u001b[1;32m     83\u001b[0m         \u001b[0;32mif\u001b[0m \u001b[0;32mnot\u001b[0m \u001b[0mself\u001b[0m\u001b[0;34m.\u001b[0m\u001b[0m_rx_name\u001b[0m\u001b[0;34m.\u001b[0m\u001b[0mmatch\u001b[0m\u001b[0;34m(\u001b[0m\u001b[0mname\u001b[0m\u001b[0;34m)\u001b[0m\u001b[0;34m:\u001b[0m\u001b[0;34m\u001b[0m\u001b[0m\n\u001b[1;32m     84\u001b[0m             raise ValueError(\"name '%s' does not match pattern '%s'\"\n\u001b[0;32m---> 85\u001b[0;31m                              % (self.name, self._rx_name.pattern))\n\u001b[0m\u001b[1;32m     86\u001b[0m         \u001b[0;32mfor\u001b[0m \u001b[0mpname\u001b[0m\u001b[0;34m,\u001b[0m \u001b[0mval\u001b[0m \u001b[0;32min\u001b[0m \u001b[0mkwargs\u001b[0m\u001b[0;34m.\u001b[0m\u001b[0mitems\u001b[0m\u001b[0;34m(\u001b[0m\u001b[0;34m)\u001b[0m\u001b[0;34m:\u001b[0m\u001b[0;34m\u001b[0m\u001b[0m\n\u001b[1;32m     87\u001b[0m             \u001b[0;32mif\u001b[0m \u001b[0mpname\u001b[0m \u001b[0;32min\u001b[0m \u001b[0mself\u001b[0m\u001b[0;34m.\u001b[0m\u001b[0m_parameters\u001b[0m\u001b[0;34m:\u001b[0m\u001b[0;34m\u001b[0m\u001b[0m\n",
      "\u001b[0;31mValueError\u001b[0m: name 'SLH_A,Atom,B' does not match pattern '^[A-Za-z][A-Za-z0-9.]*$'"
     ]
    }
   ],
   "source": [
    "model = SLHComponent(SYS, detuning1=DeltaA,detuning2=DeltaB)"
   ]
  },
  {
   "cell_type": "code",
   "execution_count": 54,
   "metadata": {},
   "outputs": [
    {
     "name": "stderr",
     "output_type": "stream",
     "text": [
      "Ignoring line 13914 in mapping file 'psfonts.map': Unknown token '<MinLibBol'\n",
      "Ignoring line 13915 in mapping file 'psfonts.map': Unknown token '<MinLibBol'\n",
      "Ignoring line 13916 in mapping file 'psfonts.map': Unknown token '<MinLibBol'\n",
      "Ignoring line 13917 in mapping file 'psfonts.map': Unknown token '<MinLibBolIta'\n",
      "Ignoring line 13918 in mapping file 'psfonts.map': Unknown token '<MinLibBolIta'\n",
      "Ignoring line 13919 in mapping file 'psfonts.map': Unknown token '<MinLibBolIta'\n",
      "Ignoring line 13920 in mapping file 'psfonts.map': Unknown token '<MinLibIta'\n",
      "Ignoring line 13921 in mapping file 'psfonts.map': Unknown token '<MinLibIta'\n",
      "Ignoring line 13922 in mapping file 'psfonts.map': Unknown token '<MinLibIta'\n",
      "Ignoring line 13923 in mapping file 'psfonts.map': Unknown token '<MinLibReg'\n",
      "Ignoring line 13924 in mapping file 'psfonts.map': Unknown token '<MinLibReg'\n",
      "Ignoring line 13925 in mapping file 'psfonts.map': Unknown token '<MinLibReg'\n"
     ]
    },
    {
     "data": {
      "image/png": "[encoded data removed]",
      "text/plain": [
       "<IPython.core.display.Image object>"
      ]
     },
     "metadata": {},
     "output_type": "display_data"
    }
   ],
   "source": [
    "model.show()"
   ]
  },
  {
   "cell_type": "code",
   "execution_count": 49,
   "metadata": {},
   "outputs": [
    {
     "data": {
      "text/plain": [
       "'SLHAAtomB'"
      ]
     },
     "execution_count": 49,
     "metadata": {},
     "output_type": "execute_result"
    }
   ],
   "source": [
    "model.name"
   ]
  },
  {
   "cell_type": "code",
   "execution_count": null,
   "metadata": {
    "collapsed": true
   },
   "outputs": [],
   "source": []
  }
 ],
 "metadata": {
  "anaconda-cloud": {},
  "kernelspec": {
   "display_name": "Python 3",
   "language": "python",
   "name": "python3"
  },
  "language_info": {
   "codemirror_mode": {
    "name": "ipython",
    "version": 3
   },
   "file_extension": ".py",
   "mimetype": "text/x-python",
   "name": "python",
   "nbconvert_exporter": "python",
   "pygments_lexer": "ipython3",
   "version": "3.6.1"
  }
 },
 "nbformat": 4,
 "nbformat_minor": 1
}
